{
    "cells": [
        {
            "cell_type": "code",
            "execution_count": 4,
            "metadata": {},
            "outputs": [],
            "source": [
                "from __future__ import print_function\n",
                "import numpy as np\n",
                "import pickle\n",
                "import cv2\n",
                "import os "
            ]
        },
        {
            "cell_type": "code",
            "execution_count": 10,
            "metadata": {},
            "outputs": [],
            "source": [
                "\n",
                "def load_cifar_pickle(path, file):\n",
                "    f = open(os.path.join(path, file), 'rb')\n",
                "    cifar_data = pickle.load(f, encoding=\"latin1\")\n",
                "    images = cifar_data['data']\n",
                "    images = np.reshape(images, (10000, 3, 32, 32))\n",
                "    labels = np.array(cifar_data['labels'])\n",
                "    print(\"Loaded {} labelled images.\".format(images.shape[0]))\n",
                "    return images, labels \n",
                "\n",
                "\n",
                "def load_cifar_categories(path, file):\n",
                "    f = open(os.path.join(path, file), 'rb')\n",
                "    cifar_data = pickle.load(f, encoding=\"latin1\")\n",
                "    return cifar_data['label_names']\n",
                "\n",
                "def save_cifar_image(array, path):\n",
                "    # array is 3x32x32. cv2 needs 32x32x3\n",
                "    array = array.transpose(1,2,0)\n",
                "    # array is RGB. cv2 needs BGR\n",
                "    array = cv2.cvtColor(array, cv2.COLOR_RGB2BGR)\n",
                "    # save to PNG file\n",
                "    return cv2.imwrite(path, array)"
            ]
        },
        {
            "cell_type": "code",
            "execution_count": 11,
            "metadata": {},
            "outputs": [
                {
                    "name": "stdout",
                    "output_type": "stream",
                    "text": [
                        "Loaded 10000 labelled images.\n",
                        "['airplane', 'automobile', 'bird', 'cat', 'deer', 'dog', 'frog', 'horse', 'ship', 'truck']\n"
                    ]
                }
            ],
            "source": [
                "\n",
                "base_dir= '../dataset/cifar-10-python/'\n",
                "picke_name = 'data_batch_1'\n",
                "n_imgs = 1000\n",
                "\n",
                "images, labels = load_cifar_pickle(os.path.join(base_dir, 'cifar-10-batches-py'), picke_name)\n",
                "categories = load_cifar_categories(os.path.join(base_dir, 'cifar-10-batches-py'), \"batches.meta\")\n",
                "print(categories)\n",
                "for i in range(0,n_imgs):\n",
                "    cat = categories[labels[i]]\n",
                "    # out_dir = os.path.join(base_dir, 'cifar10', cat)\n",
                "    out_dir = \"../dataset\"\n",
                "    if not os.path.exists(out_dir):\n",
                "        os.makedirs(out_dir)\n",
                "\n",
                "    save_cifar_image(images[i], os.path.join(out_dir, 'image_{}.png'.format(i)))  "
            ]
        }
    ],
    "metadata": {
        "kernelspec": {
            "display_name": "epdm",
            "language": "python",
            "name": "python3"
        },
        "language_info": {
            "codemirror_mode": {
                "name": "ipython",
                "version": 3
            },
            "file_extension": ".py",
            "mimetype": "text/x-python",
            "name": "python",
            "nbconvert_exporter": "python",
            "pygments_lexer": "ipython3",
            "version": "3.8.18"
        }
    },
    "nbformat": 4,
    "nbformat_minor": 2
}
